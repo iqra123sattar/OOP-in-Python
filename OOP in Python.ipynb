{
 "cells": [
  {
   "cell_type": "markdown",
   "id": "33c82cc2",
   "metadata": {},
   "source": [
    "# Activity1"
   ]
  },
  {
   "cell_type": "code",
   "execution_count": 1,
   "id": "8ba0c039",
   "metadata": {},
   "outputs": [],
   "source": [
    "class Bottle():\n",
    "    #constructor\n",
    "    def __init__(self, width, length, colour, water):\n",
    "        #data members\n",
    "        self.bottle_width = width\n",
    "        self.bottle_length = length\n",
    "        self.bottle_colour = colour\n",
    "        self.bottle_water = water\n",
    "        \n",
    "    #opretion/function/methods\n",
    "    def open_(self):  \n",
    "            if self.bottle_water=='fill':\n",
    "                print(\"pi lia\")\n",
    "                self.bottle_water = 'empty'\n",
    "                    \n",
    "    def close_(self):\n",
    "        if self.bottle_water=='empty':\n",
    "            print(\"bottle bnd ho gai\")"
   ]
  },
  {
   "cell_type": "code",
   "execution_count": 2,
   "id": "536f7165",
   "metadata": {},
   "outputs": [],
   "source": [
    "water_bottle=Bottle(3, 5, 'green', 'fill')"
   ]
  },
  {
   "cell_type": "code",
   "execution_count": 3,
   "id": "d20adb15",
   "metadata": {},
   "outputs": [
    {
     "data": {
      "text/plain": [
       "3"
      ]
     },
     "execution_count": 3,
     "metadata": {},
     "output_type": "execute_result"
    }
   ],
   "source": [
    "water_bottle.bottle_width"
   ]
  },
  {
   "cell_type": "code",
   "execution_count": 4,
   "id": "3a8d8d1d",
   "metadata": {},
   "outputs": [
    {
     "data": {
      "text/plain": [
       "'fill'"
      ]
     },
     "execution_count": 4,
     "metadata": {},
     "output_type": "execute_result"
    }
   ],
   "source": [
    "water_bottle.bottle_water"
   ]
  },
  {
   "cell_type": "code",
   "execution_count": 5,
   "id": "f1b901d7",
   "metadata": {},
   "outputs": [
    {
     "name": "stdout",
     "output_type": "stream",
     "text": [
      "pi lia\n"
     ]
    }
   ],
   "source": [
    "water_bottle. open_()"
   ]
  },
  {
   "cell_type": "code",
   "execution_count": 6,
   "id": "1595e7bb",
   "metadata": {},
   "outputs": [
    {
     "name": "stdout",
     "output_type": "stream",
     "text": [
      "bottle bnd ho gai\n"
     ]
    }
   ],
   "source": [
    "water_bottle. close_()"
   ]
  },
  {
   "cell_type": "code",
   "execution_count": 8,
   "id": "9935e42d",
   "metadata": {},
   "outputs": [],
   "source": [
    "class Laptop():\n",
    "    #constructor\n",
    "    #Data members\n",
    "    \n",
    "     def __init__(self,ram, graphiccard, cor, colour, generation, fingersensor ):\n",
    "        self.specification_ram=ram\n",
    "        self.specification_graphiccard=graphiccard\n",
    "        self.specification_cor = cor\n",
    "        self.specification_colour = colour\n",
    "        self.specification_generation = generation\n",
    "        self.specification_fingersensor = fingersensor\n",
    "        \n",
    "   #methods/oppretions/functions\n",
    "        def open_(self):\n",
    "            if self.specification_fingersencor == \"yes\":\n",
    "                print(\"true\")\n",
    "        def close_(self):\n",
    "            if self.specification_Laptop != \"no\":\n",
    "                print(\"false\")"
   ]
  },
  {
   "cell_type": "code",
   "execution_count": 9,
   "id": "0f1656f7",
   "metadata": {},
   "outputs": [],
   "source": [
    "specification_Laptop = Laptop(8, 2, 5, \"silver\", 8, \"yes\" )"
   ]
  },
  {
   "cell_type": "code",
   "execution_count": 10,
   "id": "37d02ba0",
   "metadata": {},
   "outputs": [
    {
     "data": {
      "text/plain": [
       "8"
      ]
     },
     "execution_count": 10,
     "metadata": {},
     "output_type": "execute_result"
    }
   ],
   "source": [
    "specification_Laptop.specification_ram"
   ]
  },
  {
   "cell_type": "code",
   "execution_count": 11,
   "id": "8c4c4e84",
   "metadata": {},
   "outputs": [
    {
     "data": {
      "text/plain": [
       "2"
      ]
     },
     "execution_count": 11,
     "metadata": {},
     "output_type": "execute_result"
    }
   ],
   "source": [
    "specification_Laptop.specification_graphiccard"
   ]
  },
  {
   "cell_type": "code",
   "execution_count": 12,
   "id": "0b7eb7ac",
   "metadata": {},
   "outputs": [
    {
     "data": {
      "text/plain": [
       "5"
      ]
     },
     "execution_count": 12,
     "metadata": {},
     "output_type": "execute_result"
    }
   ],
   "source": [
    "specification_Laptop.specification_cor"
   ]
  },
  {
   "cell_type": "code",
   "execution_count": 13,
   "id": "ba2b7245",
   "metadata": {},
   "outputs": [
    {
     "data": {
      "text/plain": [
       "'silver'"
      ]
     },
     "execution_count": 13,
     "metadata": {},
     "output_type": "execute_result"
    }
   ],
   "source": [
    "specification_Laptop.specification_colour"
   ]
  },
  {
   "cell_type": "code",
   "execution_count": 14,
   "id": "3c6bd9f6",
   "metadata": {},
   "outputs": [
    {
     "data": {
      "text/plain": [
       "8"
      ]
     },
     "execution_count": 14,
     "metadata": {},
     "output_type": "execute_result"
    }
   ],
   "source": [
    "specification_Laptop.specification_generation"
   ]
  },
  {
   "cell_type": "code",
   "execution_count": 15,
   "id": "f8e31d26",
   "metadata": {},
   "outputs": [
    {
     "data": {
      "text/plain": [
       "'yes'"
      ]
     },
     "execution_count": 15,
     "metadata": {},
     "output_type": "execute_result"
    }
   ],
   "source": [
    "specification_Laptop.specification_fingersensor"
   ]
  },
  {
   "cell_type": "code",
   "execution_count": 36,
   "id": "74e4d52c",
   "metadata": {},
   "outputs": [],
   "source": [
    "class Door():\n",
    "    #constructor\n",
    "                 \n",
    "    #data members\n",
    "    def __init__(self, width, height, colour, position, locked):\n",
    "    \n",
    "    #data memebers\n",
    "        self.locked=locked\n",
    "        self.door_width= width\n",
    "        self.door_height= height\n",
    "        self.front_door= colour\n",
    "        self.door_position= position\n",
    "    #functions/methods    \n",
    "    def open_(self):\n",
    "        if self.door_position == 0:\n",
    "            self.door_position = 90  \n",
    "    \n",
    "    def close(self): \n",
    "        if self.door_position == 90:\n",
    "            self.door_position = 0\n",
    "    \n",
    "    def lock(self):\n",
    "        if self.locked!=True:\n",
    "            self.locked=True"
   ]
  },
  {
   "cell_type": "code",
   "execution_count": 37,
   "id": "7b674118",
   "metadata": {},
   "outputs": [],
   "source": [
    "front_door = Door( 5, 8, \"sliver\", 0, False)"
   ]
  },
  {
   "cell_type": "code",
   "execution_count": 38,
   "id": "a3f045f0",
   "metadata": {},
   "outputs": [
    {
     "data": {
      "text/plain": [
       "'sliver'"
      ]
     },
     "execution_count": 38,
     "metadata": {},
     "output_type": "execute_result"
    }
   ],
   "source": [
    "front_door.front_door"
   ]
  },
  {
   "cell_type": "code",
   "execution_count": 39,
   "id": "24288e61",
   "metadata": {},
   "outputs": [],
   "source": [
    "front_door. open_()"
   ]
  },
  {
   "cell_type": "code",
   "execution_count": 40,
   "id": "c21c368e",
   "metadata": {},
   "outputs": [
    {
     "data": {
      "text/plain": [
       "90"
      ]
     },
     "execution_count": 40,
     "metadata": {},
     "output_type": "execute_result"
    }
   ],
   "source": [
    "front_door.door_position"
   ]
  },
  {
   "cell_type": "code",
   "execution_count": 41,
   "id": "7a72372f",
   "metadata": {},
   "outputs": [],
   "source": [
    "front_door.close()"
   ]
  },
  {
   "cell_type": "code",
   "execution_count": 42,
   "id": "f67e95f1",
   "metadata": {},
   "outputs": [
    {
     "data": {
      "text/plain": [
       "0"
      ]
     },
     "execution_count": 42,
     "metadata": {},
     "output_type": "execute_result"
    }
   ],
   "source": [
    "front_door.door_position "
   ]
  },
  {
   "cell_type": "code",
   "execution_count": 43,
   "id": "9f502e8c",
   "metadata": {},
   "outputs": [],
   "source": [
    "front_door.lock()"
   ]
  },
  {
   "cell_type": "code",
   "execution_count": 45,
   "id": "03d5da3e",
   "metadata": {},
   "outputs": [
    {
     "data": {
      "text/plain": [
       "True"
      ]
     },
     "execution_count": 45,
     "metadata": {},
     "output_type": "execute_result"
    }
   ],
   "source": [
    "front_door.locked"
   ]
  },
  {
   "cell_type": "code",
   "execution_count": 46,
   "id": "7f724f51",
   "metadata": {},
   "outputs": [],
   "source": [
    "class grossary():\n",
    "    #constructor\n",
    "    def __init__(self, oil, apple, chicken, rice):   \n",
    "       #data members\n",
    "        self.grossary_oil = oil\n",
    "        self.grossary_apple = apple\n",
    "        self.grossary_chicken = chicken\n",
    "        self.grossary_rice = rice \n",
    "        \n",
    "#functions\n",
    "    def eat(self):\n",
    "        if self.grossary_rice == 'tasty':\n",
    "            print(\"ate it\")\n",
    "            self.grossary_rice = 'finished'\n",
    "\n",
    "    def divid(self): \n",
    "        if self.grossary_rice == 'over_cooked':\n",
    "            print(\"will be distributed\")\n",
    "            self.grossary_rice = 'not finished' \n",
    "\n",
    "    def cooked(self):\n",
    "        if self.grossary_rice =='tastless':\n",
    "            print(\"no one will eat\")\n",
    "            self.grossary_rice = 'gone away'"
   ]
  },
  {
   "cell_type": "code",
   "execution_count": 47,
   "id": "a89f92ed",
   "metadata": {},
   "outputs": [],
   "source": [
    "kitchen_grossary = grossary(5, 6, 8, \"tastless\")"
   ]
  },
  {
   "cell_type": "code",
   "execution_count": 56,
   "id": "03a48110",
   "metadata": {},
   "outputs": [
    {
     "data": {
      "text/plain": [
       "5"
      ]
     },
     "execution_count": 56,
     "metadata": {},
     "output_type": "execute_result"
    }
   ],
   "source": [
    "kitchen_grossary.grossary_oil"
   ]
  },
  {
   "cell_type": "code",
   "execution_count": 57,
   "id": "f3ccfada",
   "metadata": {},
   "outputs": [
    {
     "data": {
      "text/plain": [
       "6"
      ]
     },
     "execution_count": 57,
     "metadata": {},
     "output_type": "execute_result"
    }
   ],
   "source": [
    "kitchen_grossary.grossary_apple"
   ]
  },
  {
   "cell_type": "code",
   "execution_count": 58,
   "id": "d019f488",
   "metadata": {},
   "outputs": [
    {
     "data": {
      "text/plain": [
       "6"
      ]
     },
     "execution_count": 58,
     "metadata": {},
     "output_type": "execute_result"
    }
   ],
   "source": [
    "kitchen_grossary.grossary_apple"
   ]
  },
  {
   "cell_type": "code",
   "execution_count": 59,
   "id": "7668b880",
   "metadata": {},
   "outputs": [],
   "source": [
    "kitchen_grossary.divid()"
   ]
  },
  {
   "cell_type": "code",
   "execution_count": 60,
   "id": "60b43098",
   "metadata": {},
   "outputs": [
    {
     "data": {
      "text/plain": [
       "'tastless'"
      ]
     },
     "execution_count": 60,
     "metadata": {},
     "output_type": "execute_result"
    }
   ],
   "source": [
    "kitchen_grossary.grossary_rice"
   ]
  },
  {
   "cell_type": "code",
   "execution_count": 61,
   "id": "11b632a6",
   "metadata": {},
   "outputs": [
    {
     "name": "stdout",
     "output_type": "stream",
     "text": [
      "no one will eat\n"
     ]
    }
   ],
   "source": [
    "kitchen_grossary.cooked()"
   ]
  },
  {
   "cell_type": "code",
   "execution_count": null,
   "id": "7c885b4f",
   "metadata": {},
   "outputs": [],
   "source": []
  },
  {
   "cell_type": "markdown",
   "id": "42010fd9",
   "metadata": {},
   "source": [
    "### Activity 2:"
   ]
  },
  {
   "cell_type": "markdown",
   "id": "d0d3c814",
   "metadata": {},
   "source": [
    "Multi-level Inheritence\n",
    "-----------------------"
   ]
  },
  {
   "cell_type": "markdown",
   "id": "8c4243e1",
   "metadata": {},
   "source": [
    "Make a chain of classes, each one inheriting from the previous one as shown below.\n",
    "Cake -> CreamCake -> CherryCreamCake -> ChocolateCherryCreamCake\n",
    "Attributes of Cake: floor, egg, sugar, milk, sugar, baking soda, temperature, is_baked,\n",
    "Methods of Cake: beat_eggs_whites, mix, bake, oop\n"
   ]
  },
  {
   "cell_type": "markdown",
   "id": "33f039e9",
   "metadata": {},
   "source": [
    "### Base class"
   ]
  },
  {
   "cell_type": "markdown",
   "id": "ef713d21",
   "metadata": {},
   "source": [
    "### Cake"
   ]
  },
  {
   "cell_type": "code",
   "execution_count": 1,
   "id": "37b5bf4c",
   "metadata": {},
   "outputs": [],
   "source": [
    "class Cake():\n",
    "#constructor\n",
    "    def __init__(self, flour, egg, sugar, milk, baking_soda, temperature, is_baked, ingredients):\n",
    "        self.cake_flour = flour\n",
    "        self.cake_egg = egg \n",
    "        self.cake_sugar = sugar\n",
    "        self.cake_milk = milk \n",
    "        self.cake_baking_soda = baking_soda\n",
    "        self.cake_temperature = temperature \n",
    "        self.cake_is_baked = is_baked \n",
    "        self.cake_ingredients = ingredients\n",
    "#functions\n",
    "    def beat_egg_whites(self):\n",
    "         if self.cake_egg != 4:\n",
    "            self.cake_egg = 4\n",
    "    def mix(self):\n",
    "         if self.cake_ingredients != 'mixed':\n",
    "            self.cake_ingredients = 'mixed'\n",
    "    def baked(self):\n",
    "         if self.cake_is_baked != 'true': \n",
    "            self.cake_is_baked = 'true'"
   ]
  },
  {
   "cell_type": "code",
   "execution_count": 2,
   "id": "f50b9f92",
   "metadata": {},
   "outputs": [],
   "source": [
    "cake = Cake(\"two cup\", 4, \"one cup\", \"two cup\", \"one tea spoon\", 0, \"mixed\", \"true\")"
   ]
  },
  {
   "cell_type": "code",
   "execution_count": 212,
   "id": "beafbdee",
   "metadata": {},
   "outputs": [
    {
     "data": {
      "text/plain": [
       "'two cup'"
      ]
     },
     "execution_count": 212,
     "metadata": {},
     "output_type": "execute_result"
    }
   ],
   "source": [
    "cake.cake_flour"
   ]
  },
  {
   "cell_type": "code",
   "execution_count": 213,
   "id": "2c77e9f2",
   "metadata": {},
   "outputs": [
    {
     "data": {
      "text/plain": [
       "4"
      ]
     },
     "execution_count": 213,
     "metadata": {},
     "output_type": "execute_result"
    }
   ],
   "source": [
    "cake.cake_egg"
   ]
  },
  {
   "cell_type": "code",
   "execution_count": 214,
   "id": "d811ae89",
   "metadata": {},
   "outputs": [
    {
     "data": {
      "text/plain": [
       "'one cup'"
      ]
     },
     "execution_count": 214,
     "metadata": {},
     "output_type": "execute_result"
    }
   ],
   "source": [
    "cake.cake_sugar"
   ]
  },
  {
   "cell_type": "code",
   "execution_count": 215,
   "id": "3bec6615",
   "metadata": {},
   "outputs": [
    {
     "data": {
      "text/plain": [
       "'two cup'"
      ]
     },
     "execution_count": 215,
     "metadata": {},
     "output_type": "execute_result"
    }
   ],
   "source": [
    "cake.cake_milk"
   ]
  },
  {
   "cell_type": "code",
   "execution_count": 216,
   "id": "c32c2d9e",
   "metadata": {},
   "outputs": [
    {
     "data": {
      "text/plain": [
       "'one tea spoon'"
      ]
     },
     "execution_count": 216,
     "metadata": {},
     "output_type": "execute_result"
    }
   ],
   "source": [
    "cake.cake_baking_soda"
   ]
  },
  {
   "cell_type": "code",
   "execution_count": 217,
   "id": "5d0bb612",
   "metadata": {},
   "outputs": [
    {
     "data": {
      "text/plain": [
       "0"
      ]
     },
     "execution_count": 217,
     "metadata": {},
     "output_type": "execute_result"
    }
   ],
   "source": [
    "cake.cake_temperature "
   ]
  },
  {
   "cell_type": "code",
   "execution_count": 218,
   "id": "82f2d371",
   "metadata": {},
   "outputs": [
    {
     "data": {
      "text/plain": [
       "'mixed'"
      ]
     },
     "execution_count": 218,
     "metadata": {},
     "output_type": "execute_result"
    }
   ],
   "source": [
    "cake.cake_is_baked "
   ]
  },
  {
   "cell_type": "code",
   "execution_count": 219,
   "id": "eceba8e7",
   "metadata": {},
   "outputs": [],
   "source": [
    "cake.beat_egg_whites()"
   ]
  },
  {
   "cell_type": "code",
   "execution_count": 220,
   "id": "0d4a4516",
   "metadata": {},
   "outputs": [
    {
     "data": {
      "text/plain": [
       "4"
      ]
     },
     "execution_count": 220,
     "metadata": {},
     "output_type": "execute_result"
    }
   ],
   "source": [
    "cake.cake_egg"
   ]
  },
  {
   "cell_type": "code",
   "execution_count": 221,
   "id": "fe2aa074",
   "metadata": {},
   "outputs": [],
   "source": [
    "cake.mix()"
   ]
  },
  {
   "cell_type": "code",
   "execution_count": 222,
   "id": "ffd2cd8f",
   "metadata": {},
   "outputs": [
    {
     "data": {
      "text/plain": [
       "'mixed'"
      ]
     },
     "execution_count": 222,
     "metadata": {},
     "output_type": "execute_result"
    }
   ],
   "source": [
    "cake.cake_ingredients"
   ]
  },
  {
   "cell_type": "code",
   "execution_count": 223,
   "id": "08fd8412",
   "metadata": {},
   "outputs": [],
   "source": [
    "cake.baked()"
   ]
  },
  {
   "cell_type": "code",
   "execution_count": 224,
   "id": "6335d02f",
   "metadata": {},
   "outputs": [
    {
     "data": {
      "text/plain": [
       "'true'"
      ]
     },
     "execution_count": 224,
     "metadata": {},
     "output_type": "execute_result"
    }
   ],
   "source": [
    "cake.cake_is_baked"
   ]
  },
  {
   "cell_type": "markdown",
   "id": "93c6a4fa",
   "metadata": {},
   "source": [
    "### child class"
   ]
  },
  {
   "cell_type": "markdown",
   "id": "8cf460fa",
   "metadata": {},
   "source": [
    "Attributes of CreanmCake: cream,\n",
    "Methods of CreanmCake: add_cream, refrigerate,"
   ]
  },
  {
   "cell_type": "markdown",
   "id": "ca997446",
   "metadata": {},
   "source": [
    "### Cream Cake"
   ]
  },
  {
   "cell_type": "code",
   "execution_count": 225,
   "id": "7646f1fb",
   "metadata": {
    "scrolled": true
   },
   "outputs": [],
   "source": [
    "class Creamcake(Cake):\n",
    "#constructor   \n",
    "    def __init__(self, flour, egg, sugar, milk, baking_soda, temperature, is_baked, ingredients, cream, cake_temperature):\n",
    "        super().__init__(flour, egg, sugar, milk, baking_soda, temperature, is_baked, ingredients)\n",
    "        self.cake_cream = cream\n",
    "        self.cake_temperature = temperature\n",
    "#functions\n",
    "    def add_cream(self):\n",
    "         if self.cake_cream == \"false\":\n",
    "            self.cake_cream = \"true\"\n",
    "    def refrigerater(self):\n",
    "         if self.cake_temperature != \"cold\":\n",
    "            self.cake_temperature = \"cold\"             "
   ]
  },
  {
   "cell_type": "code",
   "execution_count": 228,
   "id": "2dc6969b",
   "metadata": {},
   "outputs": [],
   "source": [
    "cake = Creamcake(\"two cup\", 4, \"one cup\", \"two cup\", \"one tea spoon\", 0, \"mixed\", \"true\", \"true\", \"cold\")"
   ]
  },
  {
   "cell_type": "code",
   "execution_count": 229,
   "id": "1178340e",
   "metadata": {},
   "outputs": [],
   "source": [
    "cake.add_cream()"
   ]
  },
  {
   "cell_type": "code",
   "execution_count": 230,
   "id": "e03c24ab",
   "metadata": {},
   "outputs": [
    {
     "data": {
      "text/plain": [
       "'true'"
      ]
     },
     "execution_count": 230,
     "metadata": {},
     "output_type": "execute_result"
    }
   ],
   "source": [
    "cake.cake_cream"
   ]
  },
  {
   "cell_type": "code",
   "execution_count": 231,
   "id": "e27a17f5",
   "metadata": {},
   "outputs": [
    {
     "data": {
      "text/plain": [
       "'true'"
      ]
     },
     "execution_count": 231,
     "metadata": {},
     "output_type": "execute_result"
    }
   ],
   "source": [
    "cake.cake_cream"
   ]
  },
  {
   "cell_type": "code",
   "execution_count": 232,
   "id": "49471d52",
   "metadata": {},
   "outputs": [],
   "source": [
    "cake.refrigerater()"
   ]
  },
  {
   "cell_type": "code",
   "execution_count": 233,
   "id": "ce5fc9c0",
   "metadata": {},
   "outputs": [
    {
     "data": {
      "text/plain": [
       "'cold'"
      ]
     },
     "execution_count": 233,
     "metadata": {},
     "output_type": "execute_result"
    }
   ],
   "source": [
    "cake.cake_temperature"
   ]
  },
  {
   "cell_type": "markdown",
   "id": "914f90a6",
   "metadata": {},
   "source": [
    "Attributes of CherryCreamCake: cherry\n",
    "Methods of CherryCreanmCake: add_cherry,"
   ]
  },
  {
   "cell_type": "markdown",
   "id": "6297c411",
   "metadata": {},
   "source": [
    "### CherryCreamCake"
   ]
  },
  {
   "cell_type": "code",
   "execution_count": 234,
   "id": "31ba5bea",
   "metadata": {
    "scrolled": false
   },
   "outputs": [],
   "source": [
    "class CherryCreamCake(Creamcake):\n",
    "    #constructor\n",
    "    def __init__(self, flour, egg, sugar, milk, baking_soda, temperature, is_baked, ingredients, cream, cake_temperature, cherry):\n",
    "        super().__init__(flour, egg, sugar, milk, baking_soda, temperature, is_baked, ingredients, cream, cake_temperature)\n",
    "        self.cake_cherry = cherry\n",
    "    \n",
    "    #functions\n",
    "    def add_cherry(self):    \n",
    "             if self.cake_cherry != \"mixed\":\n",
    "                self.cake_cherry = \"mixed\""
   ]
  },
  {
   "cell_type": "code",
   "execution_count": 235,
   "id": "cf57793d",
   "metadata": {},
   "outputs": [],
   "source": [
    "cake = CherryCreamCake(\"two cup\", 4, \"one cup\", \"two cup\", \"one tea spoon\", 0, \"mixed\", \"true\", \"true\", \"cold\", \"true\")"
   ]
  },
  {
   "cell_type": "code",
   "execution_count": 236,
   "id": "54e1de84",
   "metadata": {},
   "outputs": [
    {
     "data": {
      "text/plain": [
       "'true'"
      ]
     },
     "execution_count": 236,
     "metadata": {},
     "output_type": "execute_result"
    }
   ],
   "source": [
    "cake.cake_cherry"
   ]
  },
  {
   "cell_type": "code",
   "execution_count": 237,
   "id": "b13eb7b5",
   "metadata": {
    "scrolled": true
   },
   "outputs": [],
   "source": [
    "cake.add_cherry()"
   ]
  },
  {
   "cell_type": "code",
   "execution_count": 238,
   "id": "4fe04483",
   "metadata": {},
   "outputs": [
    {
     "data": {
      "text/plain": [
       "'mixed'"
      ]
     },
     "execution_count": 238,
     "metadata": {},
     "output_type": "execute_result"
    }
   ],
   "source": [
    "cake.cake_cherry"
   ]
  },
  {
   "cell_type": "markdown",
   "id": "0636512f",
   "metadata": {},
   "source": [
    "Attributes of ChocolateCherryCreamCake: chocolate,\n",
    "Methods of Cake: add_chocolate"
   ]
  },
  {
   "cell_type": "code",
   "execution_count": 239,
   "id": "62d126a0",
   "metadata": {},
   "outputs": [],
   "source": [
    "class ChocolateCherryCreamCake(CherryCreamCake):\n",
    "    #constructor\n",
    "    def __init__(self, flour, egg, sugar, milk, baking_soda, temperature, is_baked, ingredients, cream, cake_temperature, cherry, chocolate):\n",
    "        super().__init__(flour, egg, sugar, milk, baking_soda, temperature, is_baked, ingredients, cream, cake_temperature, cherry) \n",
    "        self.cake_chocolate = chocolate\n",
    "        \n",
    "    #methods\n",
    "    def add_chocolate(self):\n",
    "         if self.cake_chocolate != \"add\":\n",
    "            self.cake_chocolate = \"add\""
   ]
  },
  {
   "cell_type": "code",
   "execution_count": 240,
   "id": "6da631ef",
   "metadata": {},
   "outputs": [],
   "source": [
    "cake = ChocolateCherryCreamCake(\"two cup\", 4, \"one cup\", \"two cup\", \"one tea spoon\", 0, \"mixed\", \"true\", \"true\", \"cold\", \"true\",\"add\")"
   ]
  },
  {
   "cell_type": "code",
   "execution_count": 241,
   "id": "8ed0ed39",
   "metadata": {},
   "outputs": [
    {
     "data": {
      "text/plain": [
       "'add'"
      ]
     },
     "execution_count": 241,
     "metadata": {},
     "output_type": "execute_result"
    }
   ],
   "source": [
    "cake.cake_chocolate"
   ]
  },
  {
   "cell_type": "code",
   "execution_count": 242,
   "id": "3e0d3a0c",
   "metadata": {},
   "outputs": [],
   "source": [
    "cake.add_chocolate()"
   ]
  },
  {
   "cell_type": "code",
   "execution_count": 243,
   "id": "7961afe4",
   "metadata": {},
   "outputs": [
    {
     "data": {
      "text/plain": [
       "'add'"
      ]
     },
     "execution_count": 243,
     "metadata": {},
     "output_type": "execute_result"
    }
   ],
   "source": [
    "cake.cake_chocolate"
   ]
  },
  {
   "cell_type": "markdown",
   "id": "85ebc90b",
   "metadata": {},
   "source": [
    "# Hierarchical Inheritence"
   ]
  },
  {
   "cell_type": "markdown",
   "id": "47c38816",
   "metadata": {},
   "source": [
    "Make two chains of classes following the hierarchy mentioned below and make atleast 2 methods and some data-members of your choice for each class. Also, first make the UML diagram on the page before coding the scenario.\n",
    "Animal - > Herbivorous -> Cow -> SahiwalCow (Hint: sahiwal cow has hump on its back)\n",
    "Animal -> Carnivorous -> Shark -> BlueShark\n"
   ]
  },
  {
   "cell_type": "code",
   "execution_count": 129,
   "id": "17d7b88b",
   "metadata": {},
   "outputs": [],
   "source": [
    "class Animal():\n",
    "    def __init__(self, nutrition, habbit, movement, colour, digestion, animal_nutrition, animal_movement):\n",
    "        self.nutrition = nutrition\n",
    "        self.habbit = habbit\n",
    "        self.movement = movement\n",
    "        self.colour = colour\n",
    "        self.digestion = digestion\n",
    "        self.animal_nutrition = animal_nutrition\n",
    "        self.animal_movement = animal_movement \n",
    "    def nutrition_(self):\n",
    "         if self.animal_nutrition != \"provide\":\n",
    "            self.animal_nutrition = \"provide\"\n",
    "    def digestion_(self):\n",
    "         if self.animal_movement != \"stand\":\n",
    "            self.animal_movement = \"stand\""
   ]
  },
  {
   "cell_type": "code",
   "execution_count": 130,
   "id": "3a4b62d8",
   "metadata": {},
   "outputs": [],
   "source": [
    "animal = Animal(\"grass\", \"sleep\", \"sit\", \"brown\", \"yes\", \"provide\", \"stand\")"
   ]
  },
  {
   "cell_type": "code",
   "execution_count": 131,
   "id": "c0142636",
   "metadata": {},
   "outputs": [
    {
     "data": {
      "text/plain": [
       "'grass'"
      ]
     },
     "execution_count": 131,
     "metadata": {},
     "output_type": "execute_result"
    }
   ],
   "source": [
    "animal.nutrition"
   ]
  },
  {
   "cell_type": "code",
   "execution_count": 132,
   "id": "9cf4c74f",
   "metadata": {},
   "outputs": [
    {
     "data": {
      "text/plain": [
       "7"
      ]
     },
     "execution_count": 132,
     "metadata": {},
     "output_type": "execute_result"
    }
   ],
   "source": [
    "7"
   ]
  },
  {
   "cell_type": "code",
   "execution_count": 133,
   "id": "1dbaee5d",
   "metadata": {},
   "outputs": [
    {
     "data": {
      "text/plain": [
       "'sit'"
      ]
     },
     "execution_count": 133,
     "metadata": {},
     "output_type": "execute_result"
    }
   ],
   "source": [
    "animal.movement"
   ]
  },
  {
   "cell_type": "code",
   "execution_count": 134,
   "id": "aa0ac265",
   "metadata": {},
   "outputs": [
    {
     "data": {
      "text/plain": [
       "'brown'"
      ]
     },
     "execution_count": 134,
     "metadata": {},
     "output_type": "execute_result"
    }
   ],
   "source": [
    "animal.colour"
   ]
  },
  {
   "cell_type": "code",
   "execution_count": 135,
   "id": "4dc5850c",
   "metadata": {},
   "outputs": [
    {
     "data": {
      "text/plain": [
       "'yes'"
      ]
     },
     "execution_count": 135,
     "metadata": {},
     "output_type": "execute_result"
    }
   ],
   "source": [
    "animal.digestion"
   ]
  },
  {
   "cell_type": "code",
   "execution_count": 136,
   "id": "a12ddecd",
   "metadata": {},
   "outputs": [
    {
     "data": {
      "text/plain": [
       "'yes'"
      ]
     },
     "execution_count": 136,
     "metadata": {},
     "output_type": "execute_result"
    }
   ],
   "source": [
    "animal.digestion"
   ]
  },
  {
   "cell_type": "code",
   "execution_count": 137,
   "id": "87bcb3f0",
   "metadata": {},
   "outputs": [],
   "source": [
    "animal.nutrition_()"
   ]
  },
  {
   "cell_type": "code",
   "execution_count": 138,
   "id": "69227c79",
   "metadata": {},
   "outputs": [
    {
     "data": {
      "text/plain": [
       "'provide'"
      ]
     },
     "execution_count": 138,
     "metadata": {},
     "output_type": "execute_result"
    }
   ],
   "source": [
    "animal.animal_nutrition"
   ]
  },
  {
   "cell_type": "code",
   "execution_count": 139,
   "id": "f319227a",
   "metadata": {
    "scrolled": true
   },
   "outputs": [],
   "source": [
    "animal.digestion_()"
   ]
  },
  {
   "cell_type": "code",
   "execution_count": 140,
   "id": "88bf157c",
   "metadata": {},
   "outputs": [
    {
     "data": {
      "text/plain": [
       "'stand'"
      ]
     },
     "execution_count": 140,
     "metadata": {},
     "output_type": "execute_result"
    }
   ],
   "source": [
    "animal.animal_movement"
   ]
  },
  {
   "cell_type": "markdown",
   "id": "6d2c5ae5",
   "metadata": {},
   "source": [
    "# Herbivorous"
   ]
  },
  {
   "cell_type": "code",
   "execution_count": 141,
   "id": "0bd988ce",
   "metadata": {},
   "outputs": [],
   "source": [
    "class Herbivorous(Animal):\n",
    "    def __init__(self, nutrition, habbit, movement, colour, digestion, animal_nutrition, animal_movement, eat, drink, plant, water):\n",
    "        super().__init__(nutrition, habbit, movement, colour, digestion, animal_nutrition,animal_movement)\n",
    "        self.eat = eat\n",
    "        self.drink = drink\n",
    "        self.plant = plant\n",
    "        self.water = water\n",
    "    def eat_(self):\n",
    "         if self.plant != \"eat\":\n",
    "            self.plant = \"eat\"\n",
    "    def drink_(self):\n",
    "         if self.water != \"drink\":\n",
    "            self.water = \"drink\"       "
   ]
  },
  {
   "cell_type": "code",
   "execution_count": 142,
   "id": "10c787f6",
   "metadata": {},
   "outputs": [],
   "source": [
    "animal = Herbivorous(\"grass\", \"sleep\", \"sit\", \"brown\", \"yes\", \"provide\", \"stand\", \"green plants\", \"water drink\", \"eat\", \"drink\")"
   ]
  },
  {
   "cell_type": "code",
   "execution_count": 143,
   "id": "baa2684e",
   "metadata": {},
   "outputs": [
    {
     "data": {
      "text/plain": [
       "'green plants'"
      ]
     },
     "execution_count": 143,
     "metadata": {},
     "output_type": "execute_result"
    }
   ],
   "source": [
    "animal.eat"
   ]
  },
  {
   "cell_type": "code",
   "execution_count": 144,
   "id": "e9397412",
   "metadata": {},
   "outputs": [
    {
     "data": {
      "text/plain": [
       "'water drink'"
      ]
     },
     "execution_count": 144,
     "metadata": {},
     "output_type": "execute_result"
    }
   ],
   "source": [
    "animal.drink"
   ]
  },
  {
   "cell_type": "code",
   "execution_count": 145,
   "id": "14215f25",
   "metadata": {},
   "outputs": [],
   "source": [
    "animal.eat_()"
   ]
  },
  {
   "cell_type": "code",
   "execution_count": 146,
   "id": "6dae0899",
   "metadata": {},
   "outputs": [
    {
     "data": {
      "text/plain": [
       "'eat'"
      ]
     },
     "execution_count": 146,
     "metadata": {},
     "output_type": "execute_result"
    }
   ],
   "source": [
    "animal.plant"
   ]
  },
  {
   "cell_type": "code",
   "execution_count": 147,
   "id": "6a431996",
   "metadata": {},
   "outputs": [],
   "source": [
    "animal.drink_()"
   ]
  },
  {
   "cell_type": "code",
   "execution_count": 148,
   "id": "395e24ee",
   "metadata": {},
   "outputs": [
    {
     "data": {
      "text/plain": [
       "'drink'"
      ]
     },
     "execution_count": 148,
     "metadata": {},
     "output_type": "execute_result"
    }
   ],
   "source": [
    "\n",
    "\n",
    "animal.water"
   ]
  },
  {
   "cell_type": "markdown",
   "id": "8851ad64",
   "metadata": {},
   "source": [
    "### Cow"
   ]
  },
  {
   "cell_type": "code",
   "execution_count": 149,
   "id": "9171437e",
   "metadata": {
    "scrolled": true
   },
   "outputs": [],
   "source": [
    "class Cow(Herbivorous):\n",
    "    def __init__(self, nutrition, habbit, movement, colour, digestion, animal_nutrition, animal_movement, eat, drink, plant, water, milk, oneday_milk, animal_attack):\n",
    "        super().__init__( nutrition, habbit, movement, colour, digestion, animal_nutrition, animal_movement, eat, drink, plant, water)\n",
    "        self.milk = milk\n",
    "        self.oneday_milk = oneday_milk \n",
    "        self.animal_attack = animal_attack\n",
    "        #function\n",
    "    def milk_(self):\n",
    "        if self.oneday_milk == \"five kilo\":\n",
    "            return\n",
    "    def attack_(self):\n",
    "        if self.animal_attack == \"human\":\n",
    "            return"
   ]
  },
  {
   "cell_type": "code",
   "execution_count": 150,
   "id": "5a8ba336",
   "metadata": {
    "scrolled": false
   },
   "outputs": [],
   "source": [
    "animal = Cow(\"grass\", \"sleep\", \"sit\", \"brown\", \"yes\", \"provide\", \"stand\", \"green plants\", \"water drink\", \"eat\", \"drink\", \"two kilo\", \"five kilo\", \"human\")"
   ]
  },
  {
   "cell_type": "code",
   "execution_count": 151,
   "id": "d0211e95",
   "metadata": {},
   "outputs": [
    {
     "data": {
      "text/plain": [
       "'two kilo'"
      ]
     },
     "execution_count": 151,
     "metadata": {},
     "output_type": "execute_result"
    }
   ],
   "source": [
    "animal.milk"
   ]
  },
  {
   "cell_type": "code",
   "execution_count": 152,
   "id": "f49678bf",
   "metadata": {},
   "outputs": [],
   "source": [
    "animal.milk_()"
   ]
  },
  {
   "cell_type": "code",
   "execution_count": 153,
   "id": "b9b051de",
   "metadata": {},
   "outputs": [
    {
     "data": {
      "text/plain": [
       "'five kilo'"
      ]
     },
     "execution_count": 153,
     "metadata": {},
     "output_type": "execute_result"
    }
   ],
   "source": [
    "animal.oneday_milk"
   ]
  },
  {
   "cell_type": "code",
   "execution_count": 154,
   "id": "56bdbfa4",
   "metadata": {},
   "outputs": [],
   "source": [
    "animal.attack_()"
   ]
  },
  {
   "cell_type": "code",
   "execution_count": 155,
   "id": "7408433a",
   "metadata": {},
   "outputs": [
    {
     "data": {
      "text/plain": [
       "'human'"
      ]
     },
     "execution_count": 155,
     "metadata": {},
     "output_type": "execute_result"
    }
   ],
   "source": [
    "animal.animal_attack"
   ]
  },
  {
   "cell_type": "markdown",
   "id": "8424c06a",
   "metadata": {},
   "source": [
    "### Sahiwal Cow"
   ]
  },
  {
   "cell_type": "code",
   "execution_count": 156,
   "id": "aaa08aea",
   "metadata": {},
   "outputs": [],
   "source": [
    "class SahiwalCow(Cow):\n",
    "    def __init__(self, nutrition, habbit, movement, colour, digestion, animal_nutrition, animal_movement, eat, drink, plant, water, milk, oneday_milk, animal_attack, hump, milk_production,need, age):\n",
    "        super().__init__(nutrition, habbit, movement, colour, digestion, animal_nutrition, animal_movement, eat, drink, plant, water, milk, oneday_milk, animal_attack)\n",
    "        self.hump = hump\n",
    "        self.milk_production = milk_production\n",
    "        self.need = need\n",
    "        self.age = age\n",
    "    def popular_(self):\n",
    "        if self.milk_production == \"highly efficient\":\n",
    "            return\n",
    "    def disadvantages_(self):  \n",
    "        if self.need == \"high level management\":\n",
    "            return\n",
    "    def life_span(self):\n",
    "        if self.age == \"twenty years\":\n",
    "            return"
   ]
  },
  {
   "cell_type": "code",
   "execution_count": 157,
   "id": "8a083d4b",
   "metadata": {},
   "outputs": [],
   "source": [
    "animal = SahiwalCow(\"grass\", \"sleep\", \"sit\", \"brown\", \"yes\", \"provide\", \"stand\", \"green plants\", \"water drink\", \"eat\", \"drink\", \"two kilo\", \"five kilo\", \"human\", \"back\",\"highly efficient\", \"high level management\", \"twenty years\")"
   ]
  },
  {
   "cell_type": "code",
   "execution_count": 158,
   "id": "eab5404e",
   "metadata": {},
   "outputs": [
    {
     "data": {
      "text/plain": [
       "'back'"
      ]
     },
     "execution_count": 158,
     "metadata": {},
     "output_type": "execute_result"
    }
   ],
   "source": [
    "animal.hump"
   ]
  },
  {
   "cell_type": "code",
   "execution_count": 159,
   "id": "0bf8c2ab",
   "metadata": {},
   "outputs": [],
   "source": [
    "animal.popular_()"
   ]
  },
  {
   "cell_type": "code",
   "execution_count": 160,
   "id": "8a62dbb1",
   "metadata": {},
   "outputs": [
    {
     "data": {
      "text/plain": [
       "'highly efficient'"
      ]
     },
     "execution_count": 160,
     "metadata": {},
     "output_type": "execute_result"
    }
   ],
   "source": [
    "animal.milk_production"
   ]
  },
  {
   "cell_type": "code",
   "execution_count": 161,
   "id": "ca41461c",
   "metadata": {},
   "outputs": [],
   "source": [
    "animal.disadvantages_()"
   ]
  },
  {
   "cell_type": "code",
   "execution_count": 162,
   "id": "4e0a3a19",
   "metadata": {},
   "outputs": [
    {
     "data": {
      "text/plain": [
       "'high level management'"
      ]
     },
     "execution_count": 162,
     "metadata": {},
     "output_type": "execute_result"
    }
   ],
   "source": [
    "animal.need"
   ]
  },
  {
   "cell_type": "code",
   "execution_count": 163,
   "id": "4a1d3b93",
   "metadata": {},
   "outputs": [],
   "source": [
    "animal.life_span()"
   ]
  },
  {
   "cell_type": "code",
   "execution_count": 164,
   "id": "a6bb9631",
   "metadata": {},
   "outputs": [
    {
     "data": {
      "text/plain": [
       "'twenty years'"
      ]
     },
     "execution_count": 164,
     "metadata": {},
     "output_type": "execute_result"
    }
   ],
   "source": [
    "animal.age"
   ]
  },
  {
   "cell_type": "code",
   "execution_count": 165,
   "id": "80b6dfed",
   "metadata": {},
   "outputs": [],
   "source": [
    "class Carnivorous(Animal):\n",
    "    def __init__(self, nutrition, habbit, movement, colour, digestion, animal_nutrition, animal_movement, eat, vision, change, carnivorous):\n",
    "        super().__init__(nutrition, habbit, movement, colour, digestion, animal_nutrition, animal_movement)\n",
    "        self.eat = eat\n",
    "        self.vision = vision\n",
    "        self.change = change\n",
    "        self.carnivorous = carnivorous  \n",
    "    def life_cycle(self): \n",
    "        if self.change == \"their eating habbit\":\n",
    "            return\n",
    "    def some_time(self):\n",
    "        if self.carnivorous == \"predactor\":\n",
    "            return"
   ]
  },
  {
   "cell_type": "code",
   "execution_count": 166,
   "id": "eeaed3e9",
   "metadata": {},
   "outputs": [],
   "source": [
    "animal = Carnivorous(  \"grass\", \"sleep\", \"sit\", \"brown\", \"yes\", \"provide\", \"stand\", \"meat\", \"sharp_sighted\", \"their eating habbit\", \"predactor\")"
   ]
  },
  {
   "cell_type": "code",
   "execution_count": 167,
   "id": "57b5b433",
   "metadata": {},
   "outputs": [
    {
     "data": {
      "text/plain": [
       "'meat'"
      ]
     },
     "execution_count": 167,
     "metadata": {},
     "output_type": "execute_result"
    }
   ],
   "source": [
    "animal.eat"
   ]
  },
  {
   "cell_type": "code",
   "execution_count": 168,
   "id": "a43cbc8b",
   "metadata": {},
   "outputs": [
    {
     "data": {
      "text/plain": [
       "'sharp_sighted'"
      ]
     },
     "execution_count": 168,
     "metadata": {},
     "output_type": "execute_result"
    }
   ],
   "source": [
    "animal.vision"
   ]
  },
  {
   "cell_type": "code",
   "execution_count": 169,
   "id": "15f58693",
   "metadata": {},
   "outputs": [],
   "source": [
    "animal.life_cycle()"
   ]
  },
  {
   "cell_type": "code",
   "execution_count": 170,
   "id": "1dc3e379",
   "metadata": {},
   "outputs": [
    {
     "data": {
      "text/plain": [
       "'their eating habbit'"
      ]
     },
     "execution_count": 170,
     "metadata": {},
     "output_type": "execute_result"
    }
   ],
   "source": [
    "animal.change"
   ]
  },
  {
   "cell_type": "code",
   "execution_count": 171,
   "id": "81a64b98",
   "metadata": {},
   "outputs": [],
   "source": [
    "animal.some_time()"
   ]
  },
  {
   "cell_type": "code",
   "execution_count": 172,
   "id": "e408e851",
   "metadata": {},
   "outputs": [
    {
     "data": {
      "text/plain": [
       "'predactor'"
      ]
     },
     "execution_count": 172,
     "metadata": {},
     "output_type": "execute_result"
    }
   ],
   "source": [
    "animal.carnivorous"
   ]
  },
  {
   "cell_type": "markdown",
   "id": "bb2c2892",
   "metadata": {},
   "source": [
    "### Shark"
   ]
  },
  {
   "cell_type": "code",
   "execution_count": 173,
   "id": "71bb6fc8",
   "metadata": {},
   "outputs": [],
   "source": [
    "class Shark(Carnivorous):\n",
    "    def __init__(self, nutrition, habbit, movement, colour, digestion, animal_nutrition, animal_movement, eat, vision, change, carnivorous, live_in, water, shark):\n",
    "        super().__init__(nutrition, habbit, movement, colour, digestion, animal_nutrition, animal_movement, eat, vision, change, carnivorous) \n",
    "        self.live_in = live_in\n",
    "        self.water = water\n",
    "        self.shark = shark\n",
    "    def oxygen_(self):\n",
    "        if self.water == \"their gill to filter oxygen from the water\":\n",
    "            return\n",
    "    def special_(self): \n",
    "        if self.shark == \"are a special type of fish\":\n",
    "            return"
   ]
  },
  {
   "cell_type": "code",
   "execution_count": 174,
   "id": "a0061c15",
   "metadata": {},
   "outputs": [],
   "source": [
    "fish = Shark(\"grass\", \"sleep\", \"sit\", \"brown\", \"yes\", \"provide\", \"stand\", \"meat\", \"sharp_sighted\", \"their eating habbit\", \"predactor\", \"water\", \"their gill to filter oxygen from the water\", \"are a special type of fish\")"
   ]
  },
  {
   "cell_type": "code",
   "execution_count": 175,
   "id": "9faa24b0",
   "metadata": {},
   "outputs": [
    {
     "data": {
      "text/plain": [
       "'water'"
      ]
     },
     "execution_count": 175,
     "metadata": {},
     "output_type": "execute_result"
    }
   ],
   "source": [
    "fish.live_in"
   ]
  },
  {
   "cell_type": "code",
   "execution_count": 176,
   "id": "0a2145a3",
   "metadata": {},
   "outputs": [],
   "source": [
    "fish.oxygen_()"
   ]
  },
  {
   "cell_type": "code",
   "execution_count": 177,
   "id": "9855fb43",
   "metadata": {},
   "outputs": [
    {
     "data": {
      "text/plain": [
       "'their gill to filter oxygen from the water'"
      ]
     },
     "execution_count": 177,
     "metadata": {},
     "output_type": "execute_result"
    }
   ],
   "source": [
    "fish.water"
   ]
  },
  {
   "cell_type": "code",
   "execution_count": 178,
   "id": "5ae32137",
   "metadata": {},
   "outputs": [],
   "source": [
    "fish.special_()"
   ]
  },
  {
   "cell_type": "code",
   "execution_count": 179,
   "id": "71b3398e",
   "metadata": {},
   "outputs": [
    {
     "data": {
      "text/plain": [
       "'are a special type of fish'"
      ]
     },
     "execution_count": 179,
     "metadata": {},
     "output_type": "execute_result"
    }
   ],
   "source": [
    "fish.shark"
   ]
  },
  {
   "cell_type": "markdown",
   "id": "9a1eb844",
   "metadata": {},
   "source": [
    "### Blue Shark"
   ]
  },
  {
   "cell_type": "code",
   "execution_count": 182,
   "id": "7d5d6718",
   "metadata": {},
   "outputs": [],
   "source": [
    "class BlueShark(Shark):\n",
    "    def __init__(self, nutrition, habbit, movement, colour, digestion, animal_nutrition, animal_movement, eat, vision, change, carnivorous, live_in, water, shark, inhabit, blue_shark):\n",
    "        super().__init__(nutrition, habbit, movement, colour, digestion, animal_nutrition, animal_movement, eat, vision, change, carnivorous, live_in, water, shark)\n",
    "        self.inhabit = inhabit\n",
    "        self.blue_shark = blue_shark\n",
    "    def attack(self):\n",
    "         if self.blue_shark == \"human attack\":\n",
    "            return            "
   ]
  },
  {
   "cell_type": "code",
   "execution_count": 183,
   "id": "d0af7801",
   "metadata": {},
   "outputs": [],
   "source": [
    "fish = BlueShark(\"grass\", \"sleep\", \"sit\", \"brown\", \"yes\", \"provide\", \"stand\", \"meat\", \"sharp_sighted\", \"their eating habbit\", \"predactor\", \"water\", \"their gill to filter oxygen from the water\", \"are a special type of fish\",\"deep water\", \"human attack\")"
   ]
  },
  {
   "cell_type": "code",
   "execution_count": 184,
   "id": "fe80c3c9",
   "metadata": {},
   "outputs": [
    {
     "data": {
      "text/plain": [
       "'deep water'"
      ]
     },
     "execution_count": 184,
     "metadata": {},
     "output_type": "execute_result"
    }
   ],
   "source": [
    "fish.inhabit"
   ]
  },
  {
   "cell_type": "code",
   "execution_count": 185,
   "id": "cb488b5e",
   "metadata": {},
   "outputs": [],
   "source": [
    "fish.attack()"
   ]
  },
  {
   "cell_type": "code",
   "execution_count": 186,
   "id": "dd527b1d",
   "metadata": {},
   "outputs": [
    {
     "data": {
      "text/plain": [
       "'human attack'"
      ]
     },
     "execution_count": 186,
     "metadata": {},
     "output_type": "execute_result"
    }
   ],
   "source": [
    "fish.blue_shark"
   ]
  },
  {
   "cell_type": "markdown",
   "id": "73d85cfa",
   "metadata": {},
   "source": [
    "Make three classes as mentioned below and make atleast 2 methods and few data-members of your choice for each class. Also, first make the UML diagram on the page before coding the scenario. Understand the concepts of multiple inheritence and Method-Resolution-Order and how Super() keyword acts to resolve the issue.\n",
    "Animal -> Herbivorous -> Omnivorous\n",
    "Animal -> Carnivorous -> Omnivorous\n",
    "(Hint: Omnivorous is inheriting from both Herbi & Carnivorous)\n",
    "\n"
   ]
  },
  {
   "cell_type": "markdown",
   "id": "758e5da7",
   "metadata": {},
   "source": [
    "### Animal"
   ]
  },
  {
   "cell_type": "code",
   "execution_count": 18,
   "id": "0bacf133",
   "metadata": {},
   "outputs": [],
   "source": [
    "class Animal():\n",
    "    def __init__(self, drink, colour, animal_eat, animal_sleep):\n",
    "        self.drink = drink\n",
    "        self.colour = colour\n",
    "        self.animal_eat = animal_eat\n",
    "        self.animal_sleep = animal_sleep \n",
    "    def eat(self):\n",
    "        if self.animal_eat == \"food\":\n",
    "            return\n",
    "    def habbit(self):\n",
    "        if self.animal_sleep == \"true\":\n",
    "            return"
   ]
  },
  {
   "cell_type": "code",
   "execution_count": 19,
   "id": "9f0f1528",
   "metadata": {},
   "outputs": [],
   "source": [
    "animal = Animal(\"water\", \"brown\", \"food\", \"true\")"
   ]
  },
  {
   "cell_type": "code",
   "execution_count": 20,
   "id": "cefae045",
   "metadata": {},
   "outputs": [
    {
     "data": {
      "text/plain": [
       "'water'"
      ]
     },
     "execution_count": 20,
     "metadata": {},
     "output_type": "execute_result"
    }
   ],
   "source": [
    "animal.drink"
   ]
  },
  {
   "cell_type": "code",
   "execution_count": 21,
   "id": "c42eb521",
   "metadata": {},
   "outputs": [
    {
     "data": {
      "text/plain": [
       "'brown'"
      ]
     },
     "execution_count": 21,
     "metadata": {},
     "output_type": "execute_result"
    }
   ],
   "source": [
    "animal.colour"
   ]
  },
  {
   "cell_type": "code",
   "execution_count": 22,
   "id": "6dcd1e91",
   "metadata": {},
   "outputs": [],
   "source": [
    "animal.eat()"
   ]
  },
  {
   "cell_type": "code",
   "execution_count": 23,
   "id": "1385aa30",
   "metadata": {},
   "outputs": [
    {
     "data": {
      "text/plain": [
       "'food'"
      ]
     },
     "execution_count": 23,
     "metadata": {},
     "output_type": "execute_result"
    }
   ],
   "source": [
    "animal.animal_eat"
   ]
  },
  {
   "cell_type": "code",
   "execution_count": 24,
   "id": "d2385c5b",
   "metadata": {},
   "outputs": [],
   "source": [
    "animal.habbit()"
   ]
  },
  {
   "cell_type": "code",
   "execution_count": 25,
   "id": "5c98ab2a",
   "metadata": {},
   "outputs": [
    {
     "data": {
      "text/plain": [
       "'true'"
      ]
     },
     "execution_count": 25,
     "metadata": {},
     "output_type": "execute_result"
    }
   ],
   "source": [
    "animal.animal_sleep"
   ]
  },
  {
   "cell_type": "markdown",
   "id": "a3af1418",
   "metadata": {},
   "source": [
    "### Herbivorous"
   ]
  },
  {
   "cell_type": "code",
   "execution_count": 26,
   "id": "a33ba8ef",
   "metadata": {},
   "outputs": [],
   "source": [
    "class Herbivorous(Animal):\n",
    "    def __init__(self, drink, colour, animal_eat, animal_sleep, milk, plant, water):\n",
    "        Animal.__init__(self, drink, colour, animal_eat, animal_sleep)\n",
    "        self.milk = milk\n",
    "        self.plant = plant\n",
    "        self.water = water\n",
    "    def eat(self):\n",
    "        if self.plant == \"eat\":\n",
    "            return(\"true\")\n",
    "    def drink_(self):\n",
    "        if self.water == \"drink\":\n",
    "            return(\"true\")"
   ]
  },
  {
   "cell_type": "code",
   "execution_count": 27,
   "id": "2c8903a2",
   "metadata": {},
   "outputs": [],
   "source": [
    "animal = Herbivorous(\"water\", \"brown\", \"food\", \"true\", \"produse\", \"eat\", \"drink\")"
   ]
  },
  {
   "cell_type": "code",
   "execution_count": 28,
   "id": "6aa0dc1b",
   "metadata": {},
   "outputs": [
    {
     "data": {
      "text/plain": [
       "'produse'"
      ]
     },
     "execution_count": 28,
     "metadata": {},
     "output_type": "execute_result"
    }
   ],
   "source": [
    "animal.milk"
   ]
  },
  {
   "cell_type": "code",
   "execution_count": 29,
   "id": "53408b55",
   "metadata": {},
   "outputs": [
    {
     "data": {
      "text/plain": [
       "'true'"
      ]
     },
     "execution_count": 29,
     "metadata": {},
     "output_type": "execute_result"
    }
   ],
   "source": [
    "animal.eat()"
   ]
  },
  {
   "cell_type": "code",
   "execution_count": 30,
   "id": "2d3a0f7c",
   "metadata": {},
   "outputs": [
    {
     "data": {
      "text/plain": [
       "'true'"
      ]
     },
     "execution_count": 30,
     "metadata": {},
     "output_type": "execute_result"
    }
   ],
   "source": [
    "animal.drink_()"
   ]
  },
  {
   "cell_type": "markdown",
   "id": "1daf4ec6",
   "metadata": {},
   "source": [
    "### Carnivorous"
   ]
  },
  {
   "cell_type": "code",
   "execution_count": 31,
   "id": "489b540b",
   "metadata": {},
   "outputs": [],
   "source": [
    "class Carnivorous(Animal):\n",
    "    def __init__(self, drink, colour, animal_eat, animal_sleep, milk, plant, water, hunt, vision, change, carnivorous):\n",
    "        Animal.__init__(self, drink, colour, animal_eat, animal_sleep)\n",
    "        self.hunt = hunt\n",
    "        self.vision = vision\n",
    "        self.change = change\n",
    "        self.carnivorous = carnivorous\n",
    "    def life_cycle(self):\n",
    "        if self.change == \"their eating habbit\":\n",
    "            return(\"true\")\n",
    "    def some_times(self):\n",
    "         if self.carnivorous == \"predators\":\n",
    "            return(\"true\")"
   ]
  },
  {
   "cell_type": "code",
   "execution_count": 32,
   "id": "3cb87ae6",
   "metadata": {},
   "outputs": [],
   "source": [
    "animal = Carnivorous(\"water\", \"brown\", \"food\", \"true\", \"produse\", \"eat\", \"drink\", \"human\", \"sharp sighted\", \"their eating habbit\", \"predators\")"
   ]
  },
  {
   "cell_type": "code",
   "execution_count": 33,
   "id": "6560f1c1",
   "metadata": {},
   "outputs": [
    {
     "data": {
      "text/plain": [
       "'human'"
      ]
     },
     "execution_count": 33,
     "metadata": {},
     "output_type": "execute_result"
    }
   ],
   "source": [
    "animal.hunt"
   ]
  },
  {
   "cell_type": "code",
   "execution_count": 34,
   "id": "8cb21b14",
   "metadata": {},
   "outputs": [
    {
     "data": {
      "text/plain": [
       "'sharp sighted'"
      ]
     },
     "execution_count": 34,
     "metadata": {},
     "output_type": "execute_result"
    }
   ],
   "source": [
    "animal.vision"
   ]
  },
  {
   "cell_type": "code",
   "execution_count": 35,
   "id": "489a38ba",
   "metadata": {},
   "outputs": [
    {
     "data": {
      "text/plain": [
       "'true'"
      ]
     },
     "execution_count": 35,
     "metadata": {},
     "output_type": "execute_result"
    }
   ],
   "source": [
    "animal.life_cycle()"
   ]
  },
  {
   "cell_type": "code",
   "execution_count": 36,
   "id": "1a27e2ed",
   "metadata": {},
   "outputs": [
    {
     "data": {
      "text/plain": [
       "'true'"
      ]
     },
     "execution_count": 36,
     "metadata": {},
     "output_type": "execute_result"
    }
   ],
   "source": [
    "animal.some_times()"
   ]
  },
  {
   "cell_type": "markdown",
   "id": "197bf979",
   "metadata": {},
   "source": [
    "### Omnivorous"
   ]
  },
  {
   "cell_type": "code",
   "execution_count": 49,
   "id": "b87a64b9",
   "metadata": {},
   "outputs": [],
   "source": [
    "class Omnivorous(Herbivorous, Carnivorous):\n",
    "    def __init__(self, drink, colour, animal_eat, animal_sleep, milk, plant, water, hunt, vision, change, carnivorous, diet, human):\n",
    "        self.diet = diet\n",
    "        self.human = human\n",
    "        Herbivorous.__init__(self, drink, colour, animal_eat, animal_sleep, milk, plant, water)\n",
    "        Carnivorous.__init__(self, drink, colour, animal_eat, animal_sleep, milk, plant, water, hunt, vision, change, carnivorous)\n",
    "    def eat_(self):\n",
    "        if self.diet == \"feeding on both animal and plant\":\n",
    "            return\n",
    "    def behavioural_(self):\n",
    "        if self.human == \"omnivorous\":\n",
    "            return"
   ]
  },
  {
   "cell_type": "code",
   "execution_count": 50,
   "id": "796aa1fd",
   "metadata": {},
   "outputs": [],
   "source": [
    "animal = Omnivorous(\"water\", \"brown\", \"food\", \"true\", \"produse\", \"eat\", \"drink\", \"human\", \"sharp sighted\", \"their eating habbit\", \"predators\",\"feeding on both animal and plant\", \"omnivorous\")"
   ]
  },
  {
   "cell_type": "code",
   "execution_count": 51,
   "id": "cccb7650",
   "metadata": {},
   "outputs": [],
   "source": [
    "animal.eat_()"
   ]
  },
  {
   "cell_type": "code",
   "execution_count": 52,
   "id": "a8157835",
   "metadata": {},
   "outputs": [
    {
     "data": {
      "text/plain": [
       "'feeding on both animal and plant'"
      ]
     },
     "execution_count": 52,
     "metadata": {},
     "output_type": "execute_result"
    }
   ],
   "source": [
    "animal.diet"
   ]
  },
  {
   "cell_type": "code",
   "execution_count": 54,
   "id": "360ba396",
   "metadata": {},
   "outputs": [],
   "source": [
    "animal.behavioural_()"
   ]
  },
  {
   "cell_type": "code",
   "execution_count": 55,
   "id": "f6c06ee0",
   "metadata": {},
   "outputs": [
    {
     "data": {
      "text/plain": [
       "'omnivorous'"
      ]
     },
     "execution_count": 55,
     "metadata": {},
     "output_type": "execute_result"
    }
   ],
   "source": [
    "animal.human"
   ]
  }
 ],
 "metadata": {
  "kernelspec": {
   "display_name": "Python 3",
   "language": "python",
   "name": "python3"
  },
  "language_info": {
   "codemirror_mode": {
    "name": "ipython",
    "version": 3
   },
   "file_extension": ".py",
   "mimetype": "text/x-python",
   "name": "python",
   "nbconvert_exporter": "python",
   "pygments_lexer": "ipython3",
   "version": "3.8.8"
  }
 },
 "nbformat": 4,
 "nbformat_minor": 5
}
